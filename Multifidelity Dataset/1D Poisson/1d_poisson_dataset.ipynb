{
 "cells": [
  {
   "cell_type": "code",
   "execution_count": null,
   "metadata": {},
   "outputs": [],
   "source": [
    "import numpy as np \n",
    "import pandas as pd\n",
    "import matplotlib.pyplot as plt\n",
    "%matplotlib inline\n",
    "import matplotlib_inline\n",
    "matplotlib_inline.backend_inline.set_matplotlib_formats('svg')\n",
    "import seaborn as sns\n",
    "sns.set_context(\"paper\")\n",
    "sns.set_style(\"ticks\");"
   ]
  },
  {
   "cell_type": "markdown",
   "metadata": {},
   "source": [
    "# 1D Poisson Equation\n",
    "\n",
    "Source: - Lu, L., Pestourie, R., Johnson, S. G. & Romano, G. Multifidelity deep neural operators for efficient learning of partial differential equations with application to fast inverse design of nanoscale heat transport. Phys. Rev. Research 4, 023210 (2022).\n",
    "\n",
    "$$\n",
    "\\frac{d^{2}u}{dx^{2}} = 20 f(x),   x \\in [0,1],\\\\\n",
    "$$\n",
    "* with the Dirichlet boundary condition $u(0) = u(1) = 0$.\n",
    "* The solution operator is given by:\n",
    "$$\n",
    "\\mathcal{G} : f \\mapsto u.\\\\\n",
    "$$\n",
    "* We sample $f$ from a Gaussian random field (GRF) with mean zero:\n",
    "$$\n",
    "f \\sim \\mathcal{GP}(0,k_{l}(x_1,x_2)),\\\\\n",
    "k_{l}(x_1,x_2) = \\exp \\Big[-\\frac{|x_1 - x_2|^2}{2l^2} \\Big], l=0.05.\\\\\n",
    "$$\n",
    "* We generate the high-fidelity and low-fidelity data sets by solving the Poisson equation via the finite difference method with different mesh size $\\Delta x$.\n",
    "* For the high-fidelity solutions, we use $\\Delta x = 1/99$, and for the low-fidelity solutions, $\\Delta x = 1/9$.\n",
    "* In the high-fidelity data set we have $500$ different samples of $f$ , but for each $f$ we do not have the full field observation of the corresponding solution $u$, and instead, we only know the value of $u(x)$ at one location $x$ randomly sampled in $[0, 1]$.\n",
    "* All DeepONets are trained with an Adam optimizer, SELU activation function, with a learning rate $10^{−4}$ for $50000$ epochs. \n",
    "* We test DeepONets with different width, and the DeepONet with the width 5 has the smallest test mse.\n",
    "* The mean and standard deviation of the error are obtained by ten runs with a randomly generated data set and random network initialization."
   ]
  },
  {
   "cell_type": "code",
   "execution_count": null,
   "metadata": {},
   "outputs": [],
   "source": [
    "# Imports\n",
    "from data.spaces import GRF, space_samples\n",
    "\n",
    "# space = GRF(1, length_scale=0.2, N=1000, interp=\"cubic\")\n",
    "# space_samples(space, 1)"
   ]
  },
  {
   "cell_type": "code",
   "execution_count": null,
   "metadata": {},
   "outputs": [],
   "source": [
    "# Example of Low & High Fidelity Data\n",
    "from data.poisson import example\n",
    "example()"
   ]
  },
  {
   "cell_type": "code",
   "execution_count": null,
   "metadata": {},
   "outputs": [],
   "source": [
    "# Generate Data\n",
    "from data.poisson import gen_data\n",
    "\n",
    "gen_data(fname=\"train\", plot_figures=True)"
   ]
  },
  {
   "cell_type": "code",
   "execution_count": null,
   "metadata": {},
   "outputs": [],
   "source": [
    "gen_data(fname=\"test\", plot_figures=False)"
   ]
  },
  {
   "cell_type": "code",
   "execution_count": 1,
   "metadata": {},
   "outputs": [],
   "source": [
    "from data.data_utils import get_data\n",
    "\n",
    "fname_train = \"./data/train.npz\"\n",
    "fname_test = \"./data/test.npz\"\n",
    "\n",
    "# Residual is False\n",
    "X_train, y_train, X_test, y_test = get_data(\n",
    "    fname_train, fname_test, residual=False, stackbranch=False, stacktrunk=False\n",
    ")"
   ]
  },
  {
   "cell_type": "markdown",
   "metadata": {},
   "source": [
    "# DeepONet Training using DeepXDE\n",
    "\n",
    "## Low Fidelity Solver"
   ]
  },
  {
   "cell_type": "code",
   "execution_count": 2,
   "metadata": {},
   "outputs": [
    {
     "name": "stderr",
     "output_type": "stream",
     "text": [
      "Using backend: pytorch\n",
      "Other supported backends: tensorflow.compat.v1, tensorflow, jax, paddle.\n",
      "paddle supports more examples now and is recommended.\n"
     ]
    }
   ],
   "source": [
    "import deepxde as dde\n",
    "\n",
    "data = dde.data.Triple(\n",
    "        X_train=X_train, y_train=y_train, X_test=X_test, y_test=y_test\n",
    "    )"
   ]
  },
  {
   "cell_type": "code",
   "execution_count": 3,
   "metadata": {},
   "outputs": [
    {
     "name": "stdout",
     "output_type": "stream",
     "text": [
      "DeepONet(\n",
      "  (branch): FNN(\n",
      "    (linears): ModuleList(\n",
      "      (0): Linear(in_features=100, out_features=5, bias=True)\n",
      "      (1): Linear(in_features=5, out_features=5, bias=True)\n",
      "    )\n",
      "  )\n",
      "  (trunk): FNN(\n",
      "    (linears): ModuleList(\n",
      "      (0): Linear(in_features=1, out_features=5, bias=True)\n",
      "    )\n",
      "  )\n",
      "  (b): ParameterList(  (0): Parameter containing: [torch.float32 of size ])\n",
      ")\n"
     ]
    }
   ],
   "source": [
    "m = 100\n",
    "dim_x = 1\n",
    "width = 5\n",
    "net = dde.nn.DeepONet(\n",
    "    [m, width, width],\n",
    "    [dim_x, width],\n",
    "    \"selu\",\n",
    "    \"Glorot normal\",\n",
    ")\n",
    "print(net)"
   ]
  },
  {
   "cell_type": "code",
   "execution_count": 5,
   "metadata": {},
   "outputs": [
    {
     "name": "stdout",
     "output_type": "stream",
     "text": [
      "Compiling model...\n",
      "'compile' took 0.002125 s\n",
      "\n"
     ]
    },
    {
     "name": "stdout",
     "output_type": "stream",
     "text": [
      "Warning: epochs is deprecated and will be removed in a future version. Use iterations instead.\n",
      "Training model...\n",
      "\n",
      "Step      Train loss    Test loss     Test metric\n",
      "0         [1.95e-01]    [2.33e-01]    []  \n",
      "1000      [8.09e-02]    [1.37e-01]    []  \n",
      "2000      [7.09e-02]    [1.38e-01]    []  \n",
      "3000      [5.95e-02]    [1.24e-01]    []  \n",
      "4000      [3.56e-02]    [7.28e-02]    []  \n",
      "5000      [2.58e-02]    [5.68e-02]    []  \n",
      "6000      [2.10e-02]    [4.84e-02]    []  \n",
      "7000      [1.72e-02]    [4.55e-02]    []  \n",
      "8000      [1.42e-02]    [4.56e-02]    []  \n",
      "9000      [1.18e-02]    [4.42e-02]    []  \n",
      "10000     [9.83e-03]    [4.18e-02]    []  \n",
      "11000     [8.23e-03]    [4.11e-02]    []  \n",
      "12000     [7.36e-03]    [3.86e-02]    []  \n",
      "13000     [6.36e-03]    [3.62e-02]    []  \n",
      "14000     [5.84e-03]    [3.31e-02]    []  \n",
      "15000     [5.43e-03]    [3.04e-02]    []  \n",
      "16000     [5.15e-03]    [2.86e-02]    []  \n",
      "17000     [4.93e-03]    [2.76e-02]    []  \n",
      "18000     [4.77e-03]    [2.68e-02]    []  \n",
      "19000     [4.64e-03]    [2.62e-02]    []  \n",
      "20000     [4.51e-03]    [2.55e-02]    []  \n",
      "21000     [4.40e-03]    [2.51e-02]    []  \n",
      "22000     [4.30e-03]    [2.49e-02]    []  \n",
      "23000     [4.21e-03]    [2.48e-02]    []  \n",
      "24000     [4.13e-03]    [2.46e-02]    []  \n",
      "25000     [4.07e-03]    [2.44e-02]    []  \n",
      "26000     [4.00e-03]    [2.42e-02]    []  \n",
      "27000     [3.95e-03]    [2.41e-02]    []  \n",
      "28000     [3.88e-03]    [2.43e-02]    []  \n",
      "29000     [3.84e-03]    [2.40e-02]    []  \n",
      "30000     [3.79e-03]    [2.39e-02]    []  \n",
      "31000     [3.76e-03]    [2.38e-02]    []  \n",
      "32000     [3.72e-03]    [2.37e-02]    []  \n",
      "33000     [3.68e-03]    [2.37e-02]    []  \n",
      "34000     [3.65e-03]    [2.38e-02]    []  \n",
      "35000     [3.60e-03]    [2.38e-02]    []  \n",
      "36000     [3.57e-03]    [2.37e-02]    []  \n",
      "37000     [3.53e-03]    [2.38e-02]    []  \n",
      "38000     [3.50e-03]    [2.37e-02]    []  \n",
      "39000     [3.47e-03]    [2.36e-02]    []  \n",
      "40000     [3.45e-03]    [2.36e-02]    []  \n",
      "41000     [3.43e-03]    [2.36e-02]    []  \n",
      "42000     [3.41e-03]    [2.35e-02]    []  \n",
      "43000     [3.39e-03]    [2.35e-02]    []  \n",
      "44000     [3.37e-03]    [2.35e-02]    []  \n",
      "45000     [3.36e-03]    [2.35e-02]    []  \n",
      "46000     [3.34e-03]    [2.34e-02]    []  \n",
      "47000     [3.32e-03]    [2.34e-02]    []  \n",
      "48000     [3.31e-03]    [2.34e-02]    []  \n",
      "49000     [3.30e-03]    [2.34e-02]    []  \n",
      "50000     [3.28e-03]    [2.33e-02]    []  \n",
      "\n",
      "Best model at step 50000:\n",
      "  train loss: 3.28e-03\n",
      "  test loss: 2.33e-02\n",
      "  test metric: []\n",
      "\n",
      "'train' took 220.035865 s\n",
      "\n",
      "Error: The network has multiple inputs, and plotting such result han't been implemented.\n"
     ]
    },
    {
     "data": {
      "image/png": "[encoded data removed]",
      "text/plain": [
       "<Figure size 640x480 with 1 Axes>"
      ]
     },
     "metadata": {},
     "output_type": "display_data"
    }
   ],
   "source": [
    "lr = 0.0001\n",
    "epochs = 50000\n",
    "\n",
    "def run(data, net, lr, epochs):\n",
    "    model = dde.Model(data, net)\n",
    "    model.compile(\"adam\", lr=lr)\n",
    "    losshistory, train_state = model.train(epochs=epochs)\n",
    "    dde.saveplot(losshistory, train_state, issave=False, isplot=True)\n",
    "\n",
    "\n",
    "run(data, net, lr, epochs)"
   ]
  },
  {
   "cell_type": "markdown",
   "metadata": {},
   "source": [
    "## High Fidelity Solver"
   ]
  },
  {
   "cell_type": "code",
   "execution_count": 6,
   "metadata": {},
   "outputs": [],
   "source": [
    "X_train, y_train, X_test, y_test = get_data(\n",
    "    fname_train, fname_test, residual=True, stackbranch=False, stacktrunk=False\n",
    ")"
   ]
  },
  {
   "cell_type": "code",
   "execution_count": 7,
   "metadata": {},
   "outputs": [],
   "source": [
    "data = dde.data.Triple(\n",
    "        X_train=X_train, y_train=y_train, X_test=X_test, y_test=y_test\n",
    "    )"
   ]
  },
  {
   "cell_type": "code",
   "execution_count": 9,
   "metadata": {},
   "outputs": [
    {
     "name": "stdout",
     "output_type": "stream",
     "text": [
      "Compiling model...\n",
      "'compile' took 0.006249 s\n",
      "\n",
      "Warning: epochs is deprecated and will be removed in a future version. Use iterations instead.\n",
      "Training model...\n",
      "\n",
      "Step      Train loss    Test loss     Test metric\n",
      "0         [1.60e+00]    [1.78e+00]    []  \n",
      "1000      [4.07e-02]    [4.78e-02]    []  \n",
      "2000      [1.89e-02]    [2.48e-02]    []  \n",
      "3000      [1.24e-02]    [1.79e-02]    []  \n",
      "4000      [1.01e-02]    [1.53e-02]    []  \n",
      "5000      [8.67e-03]    [1.44e-02]    []  \n",
      "6000      [7.69e-03]    [1.38e-02]    []  \n",
      "7000      [6.81e-03]    [1.30e-02]    []  \n",
      "8000      [6.07e-03]    [1.26e-02]    []  \n",
      "9000      [5.57e-03]    [1.22e-02]    []  \n",
      "10000     [4.95e-03]    [1.14e-02]    []  \n",
      "11000     [4.20e-03]    [1.02e-02]    []  \n",
      "12000     [3.45e-03]    [8.86e-03]    []  \n",
      "13000     [3.05e-03]    [8.57e-03]    []  \n",
      "14000     [2.51e-03]    [7.16e-03]    []  \n",
      "15000     [1.92e-03]    [5.19e-03]    []  \n",
      "16000     [1.39e-03]    [3.50e-03]    []  \n",
      "17000     [1.20e-03]    [2.88e-03]    []  \n",
      "18000     [1.07e-03]    [2.64e-03]    []  \n",
      "19000     [9.29e-04]    [2.41e-03]    []  \n",
      "20000     [7.17e-04]    [2.12e-03]    []  \n",
      "21000     [6.45e-04]    [1.95e-03]    []  \n",
      "22000     [6.06e-04]    [1.87e-03]    []  \n",
      "23000     [5.73e-04]    [1.84e-03]    []  \n",
      "24000     [5.54e-04]    [1.83e-03]    []  \n",
      "25000     [5.40e-04]    [1.78e-03]    []  \n",
      "26000     [5.30e-04]    [1.74e-03]    []  \n",
      "27000     [5.21e-04]    [1.70e-03]    []  \n",
      "28000     [5.07e-04]    [1.65e-03]    []  \n",
      "29000     [4.90e-04]    [1.67e-03]    []  \n",
      "30000     [4.84e-04]    [1.68e-03]    []  \n",
      "31000     [4.80e-04]    [1.69e-03]    []  \n",
      "32000     [4.77e-04]    [1.70e-03]    []  \n",
      "33000     [4.75e-04]    [1.70e-03]    []  \n",
      "34000     [4.73e-04]    [1.71e-03]    []  \n",
      "35000     [4.72e-04]    [1.71e-03]    []  \n",
      "36000     [4.70e-04]    [1.71e-03]    []  \n",
      "37000     [4.69e-04]    [1.71e-03]    []  \n",
      "38000     [4.67e-04]    [1.71e-03]    []  \n",
      "39000     [4.63e-04]    [1.71e-03]    []  \n",
      "40000     [4.60e-04]    [1.72e-03]    []  \n",
      "41000     [4.58e-04]    [1.71e-03]    []  \n",
      "42000     [4.55e-04]    [1.71e-03]    []  \n",
      "43000     [4.43e-04]    [1.70e-03]    []  \n",
      "44000     [4.35e-04]    [1.72e-03]    []  \n",
      "45000     [4.30e-04]    [1.73e-03]    []  \n",
      "46000     [4.26e-04]    [1.75e-03]    []  \n",
      "47000     [4.23e-04]    [1.75e-03]    []  \n",
      "48000     [4.21e-04]    [1.77e-03]    []  \n",
      "49000     [4.19e-04]    [1.78e-03]    []  \n",
      "50000     [4.18e-04]    [1.78e-03]    []  \n",
      "\n",
      "Best model at step 50000:\n",
      "  train loss: 4.18e-04\n",
      "  test loss: 1.78e-03\n",
      "  test metric: []\n",
      "\n",
      "'train' took 173.473105 s\n",
      "\n",
      "Error: The network has multiple inputs, and plotting such result han't been implemented.\n"
     ]
    },
    {
     "data": {
      "image/png": "[encoded data removed]",
      "text/plain": [
       "<Figure size 640x480 with 1 Axes>"
      ]
     },
     "metadata": {},
     "output_type": "display_data"
    }
   ],
   "source": [
    "run(data, net, lr, epochs)"
   ]
  },
  {
   "cell_type": "code",
   "execution_count": null,
   "metadata": {},
   "outputs": [],
   "source": [
    "# (u_train, y_train), G_train, (u_test, y_test), G_test = X_train, y_train, X_test, y_test\n",
    "\n",
    "# print(f\"Shape of u_train: {u_train.shape}\")\n",
    "# print(f\"Shape of y_train: {y_train.shape}\")\n",
    "# print(f\"Shape of G_train: {G_train.shape}\")\n",
    "# print(f\"Shape of u_test: {u_test.shape}\")\n",
    "# print(f\"Shape of y_test: {y_test.shape}\")\n",
    "# print(f\"Shape of G_test: {G_test.shape}\")"
   ]
  },
  {
   "cell_type": "code",
   "execution_count": null,
   "metadata": {},
   "outputs": [],
   "source": [
    "# # Residual is True\n",
    "# \"\"\"\n",
    "# 1.) residual=True: Removes LF data points from HF data G_train/y_train.\n",
    "# 2.) stackbranch=True: Horizontally Stacks Low Fidelity Data with f\n",
    "# 3.) stacktrunk=True: Horizontaly Stacks the Low Fidelity y_train/x points with High Fidelity y_train/x_points\n",
    "# \"\"\"\n",
    "# X_train, y_train, X_test, y_test = get_data(\n",
    "#     fname_train, fname_test, residual=True, stackbranch=False, stacktrunk=False\n",
    "# )"
   ]
  },
  {
   "cell_type": "code",
   "execution_count": null,
   "metadata": {},
   "outputs": [],
   "source": []
  }
 ],
 "metadata": {
  "kernelspec": {
   "display_name": "base",
   "language": "python",
   "name": "python3"
  },
  "language_info": {
   "codemirror_mode": {
    "name": "ipython",
    "version": 3
   },
   "file_extension": ".py",
   "mimetype": "text/x-python",
   "name": "python",
   "nbconvert_exporter": "python",
   "pygments_lexer": "ipython3",
   "version": "3.1.undefined"
  }
 },
 "nbformat": 4,
 "nbformat_minor": 2
}
