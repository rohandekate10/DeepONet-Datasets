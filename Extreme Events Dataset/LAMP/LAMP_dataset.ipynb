{
 "cells": [
  {
   "cell_type": "code",
   "execution_count": null,
   "metadata": {},
   "outputs": [],
   "source": [
    "import numpy as np \n",
    "import pandas as pd\n",
    "import matplotlib.pyplot as plt\n",
    "%matplotlib inline\n",
    "import matplotlib_inline\n",
    "matplotlib_inline.backend_inline.set_matplotlib_formats('svg')\n",
    "import seaborn as sns\n",
    "sns.set_context(\"paper\")\n",
    "sns.set_style(\"ticks\");"
   ]
  },
  {
   "cell_type": "markdown",
   "metadata": {},
   "source": [
    "# Discovering and forecasting extreme events via active learning in neural operators\n",
    "\n",
    "Citation - Pickering, E., Guth, S., Karniadakis, G. E. & Sapsis, T. P. Discovering and forecasting extreme events via active learning in neural operators. Nat Comput Sci 2, 823–833 (2022).\n",
    "\n",
    "## 3) Efficient Estimation of Structural Fatigue for Ship Design\n",
    "\n",
    "The LAMP-based problem aims to efficiently estimate the VBM (vertical bending moment) statistics of a unique ship, the ONR topsides flare variant, to inform future design decisions. This real-life industrial application brings significant complexity and numerous challenges. These are documented at length in Guth and Sapsis (2022) [9] and we strongly refer the reader to the above paper as we closely follow their implementation. Briefly, we describe the inputs and outputs below. Similar to the previous problems, we parametrize a low-dimensional projected subspace of wave episodes using a Karhunen Loève series expansion [10, 11] of the stochastic surface waves, described by a power spectral density such as the JONSWAP spectrum. We next use the proprietary code LAMP (Large Amplitude Motion Program, v4.0.9, May 2019) [12] in order to calculate the forward problem of specific VBM response to a"
   ]
  },
  {
   "cell_type": "code",
   "execution_count": null,
   "metadata": {},
   "outputs": [],
   "source": [
    "# Variables \n",
    "\n",
    "# seed                = 3 # Seed for initial condition consistency - NOTE due to gradient descent of the DNO, the seed will not provide perfectly similar results, but will be analogous\n",
    "# initial_iter_num    = 0 # Iteration number\n",
    "# dim                 = 10 # Dimension of the KL subspace\n",
    "# acq                 = 'KUS_LW' # Acquisition type - currently only Likelihood-weighted uncertatiny sampling\n",
    "# n_init              = 3 # Initial data points\n",
    "# epochs              = 1000  # Number of training epochs\n",
    "# b_layers            = 8 # Branch Layers\n",
    "# t_layers            = 1 # Trunk Layers\n",
    "# neurons             = 300 # Number of neurons per layer\n",
    "# init_method         = 'pdf'# How initial data are pulled\n",
    "# N                   = 2 # Number of DNO ensembles\n",
    "# iters_max           = 2  # Iterations to perform\n",
    "# run_name            = 'temp'\n",
    "# activation_func     = 'relu'\n",
    "# sampling_sigma      = 0"
   ]
  }
 ],
 "metadata": {
  "language_info": {
   "name": "python"
  }
 },
 "nbformat": 4,
 "nbformat_minor": 2
}
